{
 "cells": [
  {
   "cell_type": "markdown",
   "metadata": {},
   "source": [
    "<img style=\"float: left; margin: 30px 15px 15px 15px;\" src=\"https://encrypted-tbn0.gstatic.com/images?q=tbn:ANd9GcTFzQj91sOlkeDFkg5HDbjtR4QJYmLXkfMNig&usqp=CAU\" width=\"900\" height=\"800\" /> \n",
    "\n",
    "\n",
    "    \n",
    "### <font color='navy'> Simulación matemática. \n",
    "\n",
    "**Nombres:** #############.\n",
    "\n",
    "**Fecha:** XX de octubre del 202X.\n",
    "\n",
    "**Expediente** : XXX.\n",
    "    \n",
    "**Profesor:** Oscar David Jaramillo Zuluaga.\n",
    "    \n",
    "**Link Github**: https://github.com/Samuelrodriguezp/Proyecto1_RguezSamuel\n"
   ]
  },
  {
   "cell_type": "markdown",
   "metadata": {},
   "source": [
    "### <font color='navy'> <font size=30>  PROYECTO"
   ]
  },
  {
   "cell_type": "markdown",
   "metadata": {},
   "source": [
    "El presente trabajo surge desde la importancia de realizar una aplicación de los temas de ajuste de curvas y programación lineal haciendo uso de datos reales, actuales y de temas cercanos a los estudiantes.\n",
    "Es por tanto que los **objetivos principales** de este trabajo se enlistan como:\n",
    "\n",
    "> - Aplicar la teoría sobre ajuste de curvas para formular un polinomio que modele un fenómeno de la vida actual\n",
    "> - Aplicar la teoría de código sobre programación lineal para resolver un problema formulado por los mismos estudiantes\n",
    "\n",
    "Dentro de los propósitos principales anteriores existen otros cuya consecución permitirán un efectivo cumplimiento de los dos objetivos principales. **Objetivos secundarios**:\n",
    "\n",
    "> - Interpretar, importar y normalizar de datos de una fuente confiable que sean base para el ajuste de curvas\n",
    "> - Formular de un problema de programación lineal con parámetros claros y que permitan una correcta resolución del mismo"
   ]
  },
  {
   "cell_type": "markdown",
   "metadata": {},
   "source": [
    "### 1.0 Ajuste de curvas"
   ]
  },
  {
   "cell_type": "markdown",
   "metadata": {},
   "source": [
    "Tomando el sitio web **Data Commons** como fuente de consulta, se encontró un tema atractivo para trabajar: mortalidad infantil. Se encontró una gráfica que comparaba el índice total de mortalidad de México frente al tiempo. Esta era una gráfica que iba en detrimiendo. Se hizo el razonamiento que detrás de esa gráfica había mucho. Esa disminución significaba avances científicos disponibles para las mujeres que darán a luz. Significaba la cobertura en el territorio del sistema nacional de salud que es crucial a la hora de enfermedades en infantes. O también mostraba de manera indirecta la calidad de los servicios y alimentación en todo el país, pensando que una familia con suficiente acceso a agua potable y alimentación balanceada era una familia en donde los infantes tenían menor riesgo de adquirir enfermedades graves, y por tanto, de fallecer.\n",
    "\n",
    "Así que surgió la pregunta: siguiendo esta tendencia **¿En qué año la mortalidad infantil de México será lo más próximo a el 1%?** "
   ]
  },
  {
   "cell_type": "code",
   "execution_count": null,
   "metadata": {},
   "outputs": [],
   "source": [
    "#Importar librerias necesarias\n",
    "import pandas as pd\n",
    "import numpy as np\n",
    "import scipy.optimize as opt\n",
    "import matplotlib.pyplot as plt\n",
    "import sympy as sym"
   ]
  },
  {
   "cell_type": "code",
   "execution_count": null,
   "metadata": {},
   "outputs": [],
   "source": [
    "# Importar datos y mostrar datos\n",
    "archivo = 'infantmortalitymexico.csv'\n",
    "data = pd.read_csv(archivo)\n",
    "data"
   ]
  },
  {
   "cell_type": "code",
   "execution_count": null,
   "metadata": {},
   "outputs": [],
   "source": [
    "#Colectar y normalizar datos\n",
    "x = data.iloc[:,0]\n",
    "y = data.iloc[:,1]\n",
    "x_norm = (x-min(x))/(max(x)-min(x))\n",
    "y_norm = (y-min(y))/(max(y)-min(y))"
   ]
  },
  {
   "cell_type": "code",
   "execution_count": null,
   "metadata": {},
   "outputs": [],
   "source": [
    "#Mostrar datos\n",
    "plt.plot(x_norm, y_norm, '-b')"
   ]
  },
  {
   "cell_type": "code",
   "execution_count": null,
   "metadata": {},
   "outputs": [],
   "source": [
    "#definir la función objetivo\n",
    "def fun_obj(beta,x,y,n):\n",
    "    yhat = beta.dot([x**i for i in range(n+1)])\n",
    "    error = y-yhat\n",
    "    return np.sum(error**2)"
   ]
  },
  {
   "cell_type": "code",
   "execution_count": null,
   "metadata": {},
   "outputs": [],
   "source": [
    "#Ajusta polinomio de grado 1\n",
    "b01 = np.zeros(2)    #beta_inicial\n",
    "ajuste1 = opt.minimize(fun_obj, b01, args=(x_norm,y_norm,1))\n",
    "\n",
    "#Ajusta polinomio de grado 2\n",
    "b02 = np.zeros(3)\n",
    "ajuste2 = opt.minimize(fun_obj, b02, args=(x_norm,y_norm,2))\n",
    "\n",
    "#Ajusta polinomio de grado 3\n",
    "b03 = np.zeros(4)\n",
    "ajuste3 = opt.minimize(fun_obj, b03, args=(x_norm,y_norm,3))"
   ]
  },
  {
   "cell_type": "code",
   "execution_count": null,
   "metadata": {},
   "outputs": [],
   "source": [
    "#Objeter datos y reajustarlos para volver a la escala inicial\n",
    "yhat1 = ajuste1.x.dot([x_norm**i for i in range(2)])*(max(y)-min(y)) + min(y)\n",
    "yhat2 = ajuste2.x.dot([x_norm**i for i in range(3)])*(max(y)-min(y)) + min(y)\n",
    "yhat3 = ajuste3.x.dot([x_norm**i for i in range(4)])*(max(y)-min(y)) + min(y)"
   ]
  },
  {
   "cell_type": "code",
   "execution_count": null,
   "metadata": {},
   "outputs": [],
   "source": [
    "plt.figure(figsize=(10,8))\n",
    "\n",
    "plt.plot(x, y, 'r*', ms=5, label='Datos')\n",
    "plt.plot(x, yhat1, 'b', lw=2, label='Ajuste 1')\n",
    "plt.plot(x, yhat2, 'k', lw=2, label='Ajuste 2')\n",
    "plt.plot(x, yhat3, 'g', lw=2, label='Ajuste 3')\n",
    "plt.xlabel('Años',fontsize=20)\n",
    "plt.ylabel('% de mortalidad infantil en México',fontsize=20)\n",
    "\n",
    "plt.grid()\n",
    "plt.legend(loc='best')\n",
    "plt.show()"
   ]
  },
  {
   "cell_type": "code",
   "execution_count": null,
   "metadata": {},
   "outputs": [],
   "source": [
    "#Método del codo para determinar el mejor ajuste\n",
    "error = [ajuste1.fun, ajuste2.fun, ajuste3.fun]\n",
    "plt.figure(figsize=(8,6))\n",
    "plt.plot(range(1,4), error, 'ro-', ms=5)\n",
    "plt.xlabel('Orden del polinomio')\n",
    "plt.ylabel('error')"
   ]
  },
  {
   "cell_type": "markdown",
   "metadata": {},
   "source": [
    "Se puede observar que el codo se muestra en el codo 2, por lo que segun este metodo ese sería la aproximación más útil.\n",
    "\n",
    "### Mostrar pronóstico"
   ]
  },
  {
   "cell_type": "code",
   "execution_count": null,
   "metadata": {},
   "outputs": [],
   "source": [
    "#Obtener los beta\n",
    "beta=ajuste2.x\n",
    "#Función para ver la grafica\n",
    "sym.var('z',real=True)\n",
    "def f_2grado(z):\n",
    "    return (beta[2]*z**2 + beta[1]*z + beta[0])*(max(y)-min(y)) + min(y)"
   ]
  },
  {
   "cell_type": "code",
   "execution_count": null,
   "metadata": {},
   "outputs": [],
   "source": [
    "xnum = np.linspace(0,2,118)\n",
    "ynum = f_2grado(xnum)\n",
    "xnum_año = np.linspace(1960,2078,118)"
   ]
  },
  {
   "cell_type": "code",
   "execution_count": null,
   "metadata": {},
   "outputs": [],
   "source": [
    "# Graficar\n",
    "plt.figure(figsize=(10,8))\n",
    "\n",
    "plt.plot(x, y, 'r*', ms=10, label='Datos')\n",
    "plt.plot(x, yhat2, 'b', lw=4, label='Ajuste 2')\n",
    "plt.plot(xnum_año, ynum, 'g--', lw=2, label='Predicción')\n",
    "plt.xlabel('Años',fontsize=20)\n",
    "plt.ylabel('% de mortalidad infantil',fontsize=20)\n",
    "\n",
    "plt.grid()\n",
    "plt.legend(loc='best')\n",
    "plt.show()"
   ]
  },
  {
   "cell_type": "markdown",
   "metadata": {},
   "source": [
    "Se puede observar que rapidamente la función cuadrática se eleva por lo que creemos que es necesario utilizar el ajuste 3 para determinar un punto más bajo que se apegue mejor al los datos más recientes."
   ]
  },
  {
   "cell_type": "code",
   "execution_count": null,
   "metadata": {},
   "outputs": [],
   "source": [
    "#Obtener los beta grado 3\n",
    "beta3g=ajuste3.x\n",
    "#Función para ver la grafica\n",
    "sym.var('z',real=True)\n",
    "def f_3grado(z):\n",
    "    return (beta3g[3]*z**3 + beta3g[2]*z**2 + beta3g[1]*z + beta3g[0])*(max(y)-min(y)) + min(y)"
   ]
  },
  {
   "cell_type": "code",
   "execution_count": null,
   "metadata": {},
   "outputs": [],
   "source": [
    "xnum_3 = np.linspace(0,2,118)\n",
    "ynum_3 = f_3grado(xnum_3)"
   ]
  },
  {
   "cell_type": "code",
   "execution_count": null,
   "metadata": {},
   "outputs": [],
   "source": [
    "# Graficar\n",
    "plt.figure(figsize=(10,8))\n",
    "\n",
    "plt.plot(x, y, 'r*', ms=10, label='Datos')\n",
    "plt.plot(x, yhat2, 'b', lw=2, label='Ajuste 2')\n",
    "plt.plot(xnum_año, ynum, 'g--', lw=2, label='Predicción 2do grado')\n",
    "plt.plot(x, yhat3, 'y', lw=4, label='Ajuste 3')\n",
    "plt.plot(xnum_año, ynum_3, 'k--', lw=2, label='Predicción 3do grado')\n",
    "plt.xlabel('Años',fontsize=20)\n",
    "plt.ylabel('% de mortalidad infantil',fontsize=20)\n",
    "\n",
    "plt.grid()\n",
    "plt.legend(loc='best')\n",
    "plt.show()"
   ]
  },
  {
   "cell_type": "code",
   "execution_count": null,
   "metadata": {},
   "outputs": [],
   "source": [
    "#Calculamos el x crítico\n",
    "df3g = sym.diff(f_3grado(z),z)\n",
    "df3g"
   ]
  },
  {
   "cell_type": "code",
   "execution_count": null,
   "metadata": {},
   "outputs": [],
   "source": [
    "xc=sym.solve(df3g,z)\n",
    "xc"
   ]
  },
  {
   "cell_type": "code",
   "execution_count": null,
   "metadata": {},
   "outputs": [],
   "source": [
    "f_3grado(xc[0]),f_3grado(xc[1])"
   ]
  },
  {
   "cell_type": "code",
   "execution_count": null,
   "metadata": {},
   "outputs": [],
   "source": [
    "#Buscamos el valor que más se aproxime al primer x crítico\n",
    "for i in range(118):\n",
    "    print(i,\"-\",xnum[i])"
   ]
  },
  {
   "cell_type": "code",
   "execution_count": null,
   "metadata": {},
   "outputs": [],
   "source": [
    "xnum_año[66], ynum_3[66]"
   ]
  },
  {
   "cell_type": "code",
   "execution_count": null,
   "metadata": {},
   "outputs": [],
   "source": [
    "# Graficar\n",
    "plt.figure(figsize=(10,8))\n",
    "\n",
    "plt.plot(x, y, 'r*', ms=10, label='Datos')\n",
    "plt.plot(x, yhat2, 'b', lw=2, label='Ajuste 2')\n",
    "plt.plot(xnum_año, ynum, 'g--', lw=2, label='Predicción 2do grado')\n",
    "plt.plot(x, yhat3, 'y', lw=4, label='Ajuste 3')\n",
    "plt.plot(xnum_año, ynum_3, 'k--', lw=2, label='Predicción 3do grado')\n",
    "plt.plot(xnum_año[66],ynum_3[66], 'Db',lw=100, label='Punto crítico')\n",
    "plt.xlabel('Años',fontsize=20)\n",
    "plt.ylabel('% de mortalidad infantil',fontsize=20)\n",
    "\n",
    "plt.grid()\n",
    "plt.legend(loc='best')\n",
    "plt.show()"
   ]
  },
  {
   "cell_type": "markdown",
   "metadata": {},
   "source": [
    "#### En la gráfica anterior se puede observar el punto más bajo que la curva alcanza, segun nuestro ajuste en el año **2026** la mortalidad infantil alcanzará un indice de **1.17**"
   ]
  },
  {
   "cell_type": "markdown",
   "metadata": {},
   "source": [
    "### 2.0 Programación lineal"
   ]
  },
  {
   "cell_type": "code",
   "execution_count": null,
   "metadata": {},
   "outputs": [],
   "source": [
    "#importación de librerías necesarias\n",
    "import scipy.optimize as opt\n",
    "import numpy as np\n",
    "\n",
    "# Escribir las matrices como arreglos de Numpy\n",
    "c = np.array([1100, 1050, 1025])\n",
    "b = np.array([-3000, -2000, -2500])\n",
    "A = np.array([[-100, -120, -105],\n",
    "             [-80, -60, -70],\n",
    "             [-92, -80, -85]])"
   ]
  },
  {
   "cell_type": "code",
   "execution_count": null,
   "metadata": {},
   "outputs": [],
   "source": [
    "c,b,A"
   ]
  },
  {
   "cell_type": "code",
   "execution_count": null,
   "metadata": {},
   "outputs": [],
   "source": [
    "sol_farma = opt.linprog(c,A,b)"
   ]
  },
  {
   "cell_type": "code",
   "execution_count": null,
   "metadata": {},
   "outputs": [],
   "source": [
    "sol_farma"
   ]
  }
 ],
 "metadata": {
  "kernelspec": {
   "display_name": "Python 3 (ipykernel)",
   "language": "python",
   "name": "python3"
  },
  "language_info": {
   "codemirror_mode": {
    "name": "ipython",
    "version": 3
   },
   "file_extension": ".py",
   "mimetype": "text/x-python",
   "name": "python",
   "nbconvert_exporter": "python",
   "pygments_lexer": "ipython3",
   "version": "3.9.12"
  }
 },
 "nbformat": 4,
 "nbformat_minor": 2
}
